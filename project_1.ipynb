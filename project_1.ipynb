{
  "nbformat": 4,
  "nbformat_minor": 0,
  "metadata": {
    "colab": {
      "provenance": []
    },
    "kernelspec": {
      "name": "python3",
      "display_name": "Python 3"
    },
    "language_info": {
      "name": "python"
    }
  },
  "cells": [
    {
      "cell_type": "code",
      "execution_count": null,
      "metadata": {
        "id": "YhabYie-vc_B"
      },
      "outputs": [],
      "source": [
        "!git clone https://github.com/akshaymoharir/dnn-cifar-10.git\n",
        "!git pull\n",
        "%cd dnn-cifar-10/\n",
        "!python pytorch_train.py\n"
      ]
    }
  ]
}