{
  "nbformat": 4,
  "nbformat_minor": 0,
  "metadata": {
    "colab": {
      "provenance": []
    },
    "kernelspec": {
      "name": "python3",
      "display_name": "Python 3"
    },
    "language_info": {
      "name": "python"
    }
  },
  "cells": [
    {
      "cell_type": "code",
      "execution_count": 1,
      "metadata": {
        "id": "YhabYie-vc_B",
        "outputId": "d05a39a7-de65-41f5-d1a6-be058c10c9d5",
        "colab": {
          "base_uri": "https://localhost:8080/"
        }
      },
      "outputs": [
        {
          "output_type": "stream",
          "name": "stdout",
          "text": [
            "Cloning into 'dnn-cifar-10'...\n",
            "remote: Enumerating objects: 40, done.\u001b[K\n",
            "remote: Counting objects: 100% (40/40), done.\u001b[K\n",
            "remote: Compressing objects: 100% (32/32), done.\u001b[K\n",
            "remote: Total 40 (delta 12), reused 31 (delta 6), pack-reused 0 (from 0)\u001b[K\n",
            "Receiving objects: 100% (40/40), 503.51 KiB | 2.56 MiB/s, done.\n",
            "Resolving deltas: 100% (12/12), done.\n",
            "fatal: not a git repository (or any of the parent directories): .git\n",
            "/content/dnn-cifar-10\n",
            "Torch version:2.5.0+cu121\n",
            "Available GPUs:[]\n",
            "Downloading https://www.cs.toronto.edu/~kriz/cifar-10-python.tar.gz to ./data/cifar-10-python.tar.gz\n",
            "100% 170M/170M [00:17<00:00, 9.63MB/s]\n",
            "Extracting ./data/cifar-10-python.tar.gz to ./data\n",
            "/usr/local/lib/python3.10/dist-packages/torch/utils/data/dataloader.py:617: UserWarning: This DataLoader will create 4 worker processes in total. Our suggested max number of worker in current system is 2, which is smaller than what this DataLoader is going to create. Please be aware that excessive worker creation might get DataLoader running slow or even freeze, lower the worker number to avoid potential slowness/freeze if necessary.\n",
            "  warnings.warn(\n",
            "Files already downloaded and verified\n",
            "Files already downloaded and verified\n",
            "/usr/local/lib/python3.10/dist-packages/torch/utils/data/dataloader.py:617: UserWarning: This DataLoader will create 4 worker processes in total. Our suggested max number of worker in current system is 2, which is smaller than what this DataLoader is going to create. Please be aware that excessive worker creation might get DataLoader running slow or even freeze, lower the worker number to avoid potential slowness/freeze if necessary.\n",
            "  warnings.warn(\n",
            "Files already downloaded and verified\n",
            "\n",
            "Classes in CIFAR10 dataset are:\n",
            "{'airplane': 0, 'automobile': 1, 'bird': 2, 'cat': 3, 'deer': 4, 'dog': 5, 'frog': 6, 'horse': 7, 'ship': 8, 'truck': 9}\n",
            "\n",
            "Number of training examples:50000\n",
            "Number of validation examples:10000\n",
            "Shape of training data:(50000, 32, 32, 3)\n",
            "Random example chosen:6378\n",
            "Shape of one training image:(32, 32, 3)\n",
            "Number of examples:50000\n",
            "Height:32\n",
            "Width:32\n",
            "Number of channels:3\n",
            "Traceback (most recent call last):\n",
            "  File \"/content/dnn-cifar-10/pytorch_train.py\", line 58, in <module>\n",
            "    explore_dataset()\n",
            "  File \"/content/dnn-cifar-10/utils.py\", line 57, in explore_dataset\n",
            "    plt.imsave(\"sample_image.png\", sample_image)\n",
            "  File \"/usr/local/lib/python3.10/dist-packages/matplotlib/pyplot.py\", line 2396, in imsave\n",
            "    matplotlib.image.imsave(fname, arr, **kwargs)\n",
            "  File \"/usr/local/lib/python3.10/dist-packages/matplotlib/image.py\", line 1617, in imsave\n",
            "    rgba = sm.to_rgba(arr, bytes=True)\n",
            "  File \"/usr/local/lib/python3.10/dist-packages/matplotlib/cm.py\", line 477, in to_rgba\n",
            "    xx = np.empty(shape=(m, n, 4), dtype=x.dtype)\n",
            "TypeError: Cannot interpret 'torch.float32' as a data type\n"
          ]
        }
      ],
      "source": [
        "!git clone https://github.com/akshaymoharir/dnn-cifar-10.git\n",
        "\n",
        "%cd dnn-cifar-10/\n",
        "!git pull\n",
        "!python pytorch_train.py\n"
      ]
    }
  ]
}